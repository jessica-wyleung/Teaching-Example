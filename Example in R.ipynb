{
 "cells": [
  {
   "cell_type": "markdown",
   "id": "a13b3f52",
   "metadata": {},
   "source": [
    "__ApplePie__ is a computer retail store that sells desktops and\n",
    "laptops.\n",
    "\n",
    "\n",
    "The company earns $\\$$600 on each desktop computer it sells and $\\$$900 on each laptop.\n",
    "\n",
    "\n",
    "Due to COVID19 supply chain disruption, the supplier of ApplePie cannot ship more than 80 desktops and 75 laptops to ApplePie next month.\n",
    "\n",
    "\n",
    "The employees at ApplePie must spend 2 hours installing software and checking each desktop computer they sell. They spend 3 hours to complete this process for laptop computers. They expect to have about 300 hours available for this purpose during the next month.\n",
    "\n",
    "\n",
    "The store’s management is fairly certain that they can sell all the computers they order, but are unsure how many desktops and laptops they should order to __maximize profits__."
   ]
  },
  {
   "cell_type": "markdown",
   "id": "cf7edeb8",
   "metadata": {},
   "source": [
    "Let $x_1$ and $x_2$ be the number of desktop computers and laptop computers ApplePie order respectively.\n",
    "\n",
    "\\begin{align*}\n",
    "    \\text{Maximize   }&600x_1 + 900x_2&  \\\\\n",
    "    \\text{subject to   }&2x_1 + 3x_2\\leq 300\\\\\n",
    "    &x_1 \\leq80\\\\\n",
    "    &x_2 \\leq 75\\\\\n",
    "     & x_1,x_2 \\geq 0\n",
    "\\end{align*}\n"
   ]
  },
  {
   "cell_type": "markdown",
   "id": "4ba974a7",
   "metadata": {},
   "source": [
    "We can represent the above problem with vectors and matrices.\n",
    "\n",
    "\\begin{align*}\n",
    "    \\text{Maximize   }&c^Tx&  \\\\\n",
    "    \\text{subject to   }&Ax\\leq b\\\\\n",
    "     & x \\geq 0\n",
    "\\end{align*}\n",
    "\n",
    "$$c = \\begin{bmatrix}\n",
    "600\\\\900\n",
    "\\end{bmatrix} \\;\\;\\;  b = \\begin{bmatrix}\n",
    "300\\\\80\\\\75\n",
    "\\end{bmatrix}$$\n",
    "\n",
    "$$A = \\begin{bmatrix}\n",
    "2&3\\\\1&0\\\\0&1\n",
    "\\end{bmatrix}$$"
   ]
  },
  {
   "cell_type": "markdown",
   "id": "dca2fa8a",
   "metadata": {},
   "source": [
    "This helps us to encode the problem in R."
   ]
  },
  {
   "cell_type": "code",
   "execution_count": 3,
   "id": "0363e4bf",
   "metadata": {},
   "outputs": [
    {
     "data": {
      "text/plain": [
       "Success: the objective function is 90000 "
      ]
     },
     "metadata": {},
     "output_type": "display_data"
    },
    {
     "data": {
      "text/html": [
       "<style>\n",
       ".list-inline {list-style: none; margin:0; padding: 0}\n",
       ".list-inline>li {display: inline-block}\n",
       ".list-inline>li:not(:last-child)::after {content: \"\\00b7\"; padding: 0 .5ex}\n",
       "</style>\n",
       "<ol class=list-inline><li>37.5</li><li>75</li></ol>\n"
      ],
      "text/latex": [
       "\\begin{enumerate*}\n",
       "\\item 37.5\n",
       "\\item 75\n",
       "\\end{enumerate*}\n"
      ],
      "text/markdown": [
       "1. 37.5\n",
       "2. 75\n",
       "\n",
       "\n"
      ],
      "text/plain": [
       "[1] 37.5 75.0"
      ]
     },
     "metadata": {},
     "output_type": "display_data"
    }
   ],
   "source": [
    "library(lpSolve)\n",
    "c <- c(600, 900)\n",
    "A <- matrix(c(2,3,1,0,0,1), nrow=3, byrow=T)\n",
    "b <- c(300,80,75)\n",
    "res <- lp(\"max\", c, A, \"<=\", b)\n",
    "res\n",
    "res$solution"
   ]
  },
  {
   "cell_type": "markdown",
   "id": "d04bff01",
   "metadata": {},
   "source": [
    "According to the R output, the profit is maximised at 90000 dollars.\n",
    "ApplePie will order 37.5 desktops and 75 laptops computers."
   ]
  },
  {
   "cell_type": "code",
   "execution_count": null,
   "id": "7e99e0d9",
   "metadata": {},
   "outputs": [],
   "source": []
  }
 ],
 "metadata": {
  "kernelspec": {
   "display_name": "R",
   "language": "R",
   "name": "ir"
  },
  "language_info": {
   "codemirror_mode": "r",
   "file_extension": ".r",
   "mimetype": "text/x-r-source",
   "name": "R",
   "pygments_lexer": "r",
   "version": "4.1.1"
  }
 },
 "nbformat": 4,
 "nbformat_minor": 5
}
